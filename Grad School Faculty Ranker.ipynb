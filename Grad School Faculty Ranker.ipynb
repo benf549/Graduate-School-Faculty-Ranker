{
 "cells": [
  {
   "cell_type": "code",
   "execution_count": 1,
   "id": "b714c165-fcb2-4b00-aee6-96aa6299933a",
   "metadata": {
    "tags": []
   },
   "outputs": [
    {
     "name": "stdout",
     "output_type": "stream",
     "text": [
      "Requirement already satisfied: bs4 in /home/ben/miniconda3/envs/PyRosetta.notebooks/lib/python3.7/site-packages (0.0.1)\n",
      "Requirement already satisfied: beautifulsoup4 in /home/ben/miniconda3/envs/PyRosetta.notebooks/lib/python3.7/site-packages (from bs4) (4.10.0)\n",
      "Requirement already satisfied: soupsieve>1.2 in /home/ben/miniconda3/envs/PyRosetta.notebooks/lib/python3.7/site-packages (from beautifulsoup4->bs4) (2.3.1)\n",
      "Note: you may need to restart the kernel to use updated packages.\n"
     ]
    }
   ],
   "source": [
    "%pip install bs4"
   ]
  },
  {
   "cell_type": "code",
   "execution_count": 2,
   "id": "e68695d5-adbd-4205-9af7-47a907c6a2ad",
   "metadata": {},
   "outputs": [],
   "source": [
    "import requests\n",
    "from bs4 import BeautifulSoup"
   ]
  },
  {
   "cell_type": "code",
   "execution_count": 3,
   "id": "b66913ef-75e1-47ac-b442-b01ae429031c",
   "metadata": {},
   "outputs": [],
   "source": [
    "def replace_words(t):\n",
    "    replacers = [\"<p>\", \"<br>\", \"</p>\", \"</br>\", \"<br/>\", \":\", \",\", \".\", r'\\xao', \"\\n\", \"(\", \")\", \"/\", \"-\"]\n",
    "    for i in replacers:\n",
    "        t = t.replace(i, \" \")\n",
    "    return t.strip().split()\n",
    "\n",
    "def search_for_keywords(text):\n",
    "    keywords = {\"comput\":5, \"protein\":1, \"drug\":5, \"design\":1, \"immun\":1, \"algorithm\":1, \"machine\":1, \"deep\":1, \"therap\":1, \"molecular\":0, \"antibod\":1}\n",
    "    counter = 0\n",
    "    \n",
    "    wordlist = replace_words(text)\n",
    "    for word in keywords.keys():\n",
    "        for idx, tw in enumerate(wordlist):\n",
    "            if word in tw or word.capitalize() in tw:\n",
    "                nextword = \"\" \n",
    "                if idx+1 < len(wordlist):\n",
    "                    nextword = wordlist[idx+1].lower()\n",
    "                if word == \"protein\" and (nextword == \"design\" or nextword == \"engineering\"):\n",
    "                    counter += keywords[word]*10\n",
    "                elif word == \"machine\" and nextword == \"learning\":\n",
    "                    counter += keywords[word]*5\n",
    "                elif word == \"deep\" and nextword == \"learning\":\n",
    "                    counter += keywords[word]*5\n",
    "                elif word == \"molecular\" and (nextword == \"engineering\" or nextword == \"immunology\"):\n",
    "                    counter += 20\n",
    "                else:\n",
    "                    counter += keywords[word]\n",
    "    return counter\n",
    "\n",
    "def print_sorted_faculty(faculty_dict, top_twenty=True):\n",
    "    faculty_list = []\n",
    "    for f, text in faculty_dict.items():\n",
    "        num_hits = 0\n",
    "        try:\n",
    "            num_hits = search_for_keywords(text)\n",
    "        except (TypeError, IndexError):\n",
    "            pass\n",
    "        faculty_list.append((f, num_hits))\n",
    "\n",
    "    sorted_fac = sorted(faculty_list, key=lambda x: x[1], reverse=True) \n",
    "    print(f\"Found and scored {len(sorted_fac)} faculty\")\n",
    "    ctr = 0\n",
    "    for i in sorted_fac:\n",
    "        print(i[0][0], i[0][1], i[1])\n",
    "        if ctr == 19 and top_twenty:\n",
    "            break\n",
    "        ctr += 1"
   ]
  },
  {
   "cell_type": "markdown",
   "id": "43efcb3c-29b5-40fe-900b-0a6d37fee2c9",
   "metadata": {},
   "source": [
    "# Stanford Faculty Analysis"
   ]
  },
  {
   "cell_type": "code",
   "execution_count": 4,
   "id": "967f4110-f87b-460f-84e3-ba003cbe47af",
   "metadata": {},
   "outputs": [],
   "source": [
    "url = \"https://med.stanford.edu/biophysics/faculty1.html\"\n",
    "response = requests.get(url)"
   ]
  },
  {
   "cell_type": "code",
   "execution_count": 5,
   "id": "1ff98156-9235-4f79-a1aa-146a22ac9d16",
   "metadata": {},
   "outputs": [],
   "source": [
    "soup = BeautifulSoup(response.text, \"html.parser\")"
   ]
  },
  {
   "cell_type": "code",
   "execution_count": 6,
   "id": "70613a6d-ac26-4599-a2bf-a12865be9278",
   "metadata": {
    "scrolled": true,
    "tags": []
   },
   "outputs": [],
   "source": [
    "profile_divs = soup.findAll('div', {\"class\": \"profile-name\"})\n",
    "stanford_faculty_dict = {}\n",
    "for i in profile_divs:\n",
    "    atags = i.findAll('a')\n",
    "    for j in atags:\n",
    "        faculty_url = j['href']\n",
    "        resp = requests.get(faculty_url)\n",
    "        fac_soup = BeautifulSoup(resp.text, \"html.parser\")\n",
    "        \n",
    "        bio = fac_soup.findAll('div', {\"class\": \"bio content-section\"})\n",
    "        bio_content = [x.findAll('p') for x in bio]\n",
    "        \n",
    "        if len(bio_content) == 0:\n",
    "            bio_content = [\"\"]\n",
    "            \n",
    "        bio_content = str(bio_content[0])\n",
    "        research_tab = fac_soup.findAll('a', {'id': \"research-and-scholarship\"})\n",
    "        url_tail = research_tab[0]['href'] if len(research_tab) != 0 else \"\"\n",
    "        research_url = faculty_url + url_tail\n",
    "        \n",
    "        research_resp = requests.get(research_url)\n",
    "        research_soup = BeautifulSoup(research_resp.text, \"html.parser\")\n",
    "        research = research_soup.findAll('div', {\"class\": \"interests content-section\"})\n",
    "        research_cont = [x.findAll('p') for x in research]\n",
    "        if len(research_cont) != 0:\n",
    "            test = str(research_cont[0][0])\n",
    "            bio_content += test \n",
    "        stanford_faculty_dict[(j.text, faculty_url)] = bio_content      \n",
    "        \n",
    "        \n"
   ]
  },
  {
   "cell_type": "code",
   "execution_count": 7,
   "id": "68c860fd-688f-47f5-8dd4-55e9b19c41be",
   "metadata": {},
   "outputs": [
    {
     "name": "stdout",
     "output_type": "stream",
     "text": [
      "Found and scored 109 faculty\n",
      "Vijay Pande https://med.stanford.edu/profiles/vijay-pande 108\n",
      "Russ B. Altman https://med.stanford.edu/profiles/russ-altman 77\n",
      "Ron Dror https://med.stanford.edu/profiles/ron-dror 60\n",
      "Crystal Mackall https://med.stanford.edu/profiles/crystal-mackall 40\n",
      "Manish Saggar https://med.stanford.edu/profiles/manish-saggar 40\n",
      "Grant M. Rotskoff https://med.stanford.edu/profiles/rotskoff 39\n",
      "Anshul Kundaje https://med.stanford.edu/profiles/anshul-kundaje 35\n",
      "Soichi Wakatsuki https://med.stanford.edu/profiles/soichi-wakatsuki 34\n",
      "Possu Huang https://med.stanford.edu/profiles/possu-huang 32\n",
      "Peter S. Kim https://med.stanford.edu/profiles/peterkim 30\n",
      "Rhiju Das https://med.stanford.edu/profiles/rhiju-das 29\n",
      "Michael Levitt https://med.stanford.edu/profiles/michael-levitt 29\n",
      "Roseanna N. Zia https://med.stanford.edu/profiles/roseanna-zia 27\n",
      "Axel Brunger https://med.stanford.edu/profiles/axel-brunger 26\n",
      "Keren Haroush https://med.stanford.edu/profiles/keren-haroush 26\n",
      "Tom Wandless https://med.stanford.edu/profiles/thomas-wandless 25\n",
      "Zev Bryant https://med.stanford.edu/profiles/zev-bryant 22\n",
      "Todd Martinez https://med.stanford.edu/profiles/todd-martinez 22\n",
      "Chris Garcia https://med.stanford.edu/profiles/chris-garcia 21\n",
      "Shamit Kachru https://med.stanford.edu/profiles/shamit-kachru 20\n"
     ]
    }
   ],
   "source": [
    "print_sorted_faculty(stanford_faculty_dict)"
   ]
  },
  {
   "cell_type": "markdown",
   "id": "0f25faf2-5f34-4c45-8eaf-599f702cfaf3",
   "metadata": {},
   "source": [
    "# MIT Faculty Analysis"
   ]
  },
  {
   "cell_type": "code",
   "execution_count": 8,
   "id": "149ab74f-d85e-4371-897a-99b3cda20c68",
   "metadata": {},
   "outputs": [],
   "source": [
    "url = \"https://csbphd.mit.edu/faculty\"\n",
    "response = requests.get(url)\n",
    "soup = BeautifulSoup(response.text, \"html.parser\")"
   ]
  },
  {
   "cell_type": "code",
   "execution_count": 9,
   "id": "d51e7268-b0ab-4228-afce-0d7def12fad9",
   "metadata": {},
   "outputs": [],
   "source": [
    "mit_faculty_dict = {}\n",
    "profile_trs = soup.findAll('tr')\n",
    "for idx, i in enumerate(profile_trs):\n",
    "    if idx == 0:\n",
    "        continue\n",
    "    name = i.findAll(\"a\")[0]\n",
    "    link_tail = name[\"href\"].replace(\"/faculty\", \"\")\n",
    "    name = name.text\n",
    "    resp = requests.get(url + link_tail)\n",
    "    fac_soup = BeautifulSoup(resp.text, \"html.parser\")\n",
    "    data = fac_soup.findAll(\"section\", {\"class\":\"field field-name-field-research-summary field-type-text-with-summary field-label-above\"})\n",
    "    text = \"\"\n",
    "    for i in data:\n",
    "        text += i.text\n",
    "    mit_faculty_dict[(name, url+link_tail)] = text"
   ]
  },
  {
   "cell_type": "code",
   "execution_count": 10,
   "id": "a3a1f2a5-d4a3-474b-b8e6-eee446d00028",
   "metadata": {
    "scrolled": true,
    "tags": []
   },
   "outputs": [
    {
     "name": "stdout",
     "output_type": "stream",
     "text": [
      "Found and scored 60 faculty\n",
      "Barzilay, Regina https://csbphd.mit.edu/faculty/regina-barzilay 44\n",
      "Kulik, Heather J. https://csbphd.mit.edu/faculty/heather-j-kulik 39\n",
      "Poggio, Tomaso A. https://csbphd.mit.edu/faculty/tomaso-poggio 32\n",
      "Bathe, Mark https://csbphd.mit.edu/faculty/mark-bathe 31\n",
      "Stultz, Collin M. https://csbphd.mit.edu/faculty/collin-m-stultz 30\n",
      "Gifford, David K. https://csbphd.mit.edu/faculty/david-k-gifford 26\n",
      "Coley, Connor W. https://csbphd.mit.edu/faculty/connor-w-coley 25\n",
      "Zhang, Bin https://csbphd.mit.edu/faculty/bin-zhang 25\n",
      "Sontag, David https://csbphd.mit.edu/faculty/david-sontag 22\n",
      "Burge, Chris https://csbphd.mit.edu/faculty/chris-burge 21\n",
      "Hemann, Michael T. https://csbphd.mit.edu/faculty/michael-t-hemann 19\n",
      "Shalek, Alex K. https://csbphd.mit.edu/faculty/alex-k-shalek 18\n",
      "Wong, Harikesh S. https://csbphd.mit.edu/faculty/harikesh-s-wong 17\n",
      "Keating, Amy https://csbphd.mit.edu/faculty/amy-keating 16\n",
      "Fraenkel, Ernest https://csbphd.mit.edu/faculty/ernest-fraenkel 13\n",
      "Weiss, Ron https://csbphd.mit.edu/faculty/ron-weiss 13\n",
      "Lieberman, Tami  https://csbphd.mit.edu/faculty/tami-lieberman 12\n",
      "Uhler, Caroline https://csbphd.mit.edu/faculty/caroline-uhler 12\n",
      "Fiete, Ila https://csbphd.mit.edu/faculty/ila-fiete 11\n",
      "Young, Richard A. https://csbphd.mit.edu/faculty/richard-young 10\n"
     ]
    }
   ],
   "source": [
    "print_sorted_faculty(mit_faculty_dict)"
   ]
  },
  {
   "cell_type": "markdown",
   "id": "300b5b0c-b2e4-456f-820b-6b22f1e36fde",
   "metadata": {},
   "source": [
    "# Pitt-CMU Faculty Analysis"
   ]
  },
  {
   "cell_type": "code",
   "execution_count": 11,
   "id": "2635dba6-e15a-48c9-9375-a48b3e3e6d2f",
   "metadata": {},
   "outputs": [],
   "source": [
    "url = \"https://www.mbsb.pitt.edu/index.php/people/faculty\"\n",
    "response = requests.get(url)\n",
    "soup = BeautifulSoup(response.text, \"html.parser\")"
   ]
  },
  {
   "cell_type": "code",
   "execution_count": 12,
   "id": "77ca12f5-2c83-484a-accc-253e12d7efa3",
   "metadata": {},
   "outputs": [],
   "source": [
    "pitt_faculty_dict = {}\n",
    "faculty_list = soup.findAll('div', {\"class\": \"nspArt nspCol4\"})\n",
    "for i in faculty_list:\n",
    "    name = i.findAll('a')[0]\n",
    "    link_tail = name['href']\n",
    "    name = name.text\n",
    "    prefix = url.split(\"/index.php\")[0]\n",
    "    faculty_link = prefix + link_tail\n",
    "    resp = requests.get(faculty_link)\n",
    "    fac_soup = BeautifulSoup(resp.text, \"html.parser\")\n",
    "    data = fac_soup.findAll(\"div\", {\"class\":\"item-page\"})\n",
    "    text = \"\"\n",
    "    for i in data:\n",
    "        text += i.text\n",
    "    pitt_faculty_dict[(name, faculty_link)] = text"
   ]
  },
  {
   "cell_type": "code",
   "execution_count": 13,
   "id": "d810383c-52c9-4166-89f7-d9c7dbbbce49",
   "metadata": {
    "scrolled": true,
    "tags": []
   },
   "outputs": [
    {
     "name": "stdout",
     "output_type": "stream",
     "text": [
      "Found and scored 43 faculty\n",
      "Jacob Durrant https://www.mbsb.pitt.edu/index.php/site-map/articles/81-faculty/277-currant 56\n",
      "Pei Tang https://www.mbsb.pitt.edu/index.php/site-map/articles/81-faculty/188-pei-tang 50\n",
      "Olexandr Isayev https://www.mbsb.pitt.edu/index.php/site-map/articles/81-faculty/315-oleander-isayev 25\n",
      "Yan Xu https://www.mbsb.pitt.edu/index.php/site-map/articles/81-faculty/200-yan-xu 25\n",
      "Jonathan Coleman https://www.mbsb.pitt.edu/index.php/site-map/articles/81-faculty/298-jonathan-coleman 21\n",
      "Markus Deserno https://www.mbsb.pitt.edu/index.php/site-map/articles/81-faculty/152-markus-deserno 18\n",
      "Maria Kurnikova https://www.mbsb.pitt.edu/index.php/site-map/articles/81-faculty/169-maria-kurnikova 17\n",
      "Cheng Zhang https://www.mbsb.pitt.edu/index.php/site-map/articles/81-faculty/296-cheng-zhang 14\n",
      "Jeffrey Brodsky https://www.mbsb.pitt.edu/index.php/site-map/articles/81-faculty/144-jeffrey-brodsky 13\n",
      "Patricia Opresko https://www.mbsb.pitt.edu/index.php/site-map/articles/81-faculty/180-patricia-opresko 12\n",
      "Kabirul Islam https://www.mbsb.pitt.edu/index.php/site-map/articles/81-faculty/263-kislam 11\n",
      "Jean-Pierre Vilardaga https://www.mbsb.pitt.edu/index.php/site-map/articles/81-faculty/275-vilardaga 11\n",
      "Seth Horne https://www.mbsb.pitt.edu/index.php/site-map/articles/81-faculty/162-seth-horne 10\n",
      "Jinwoo Ahn https://www.mbsb.pitt.edu/index.php/site-map/articles/81-faculty/140-jinwoo-ahn 9\n",
      "Thomas Smithgall https://www.mbsb.pitt.edu/index.php/site-map/articles/81-faculty/185-thomas-smithgall 9\n",
      "Ben Van Houten https://www.mbsb.pitt.edu/index.php/site-map/articles/81-faculty/193-ben-van-houten 9\n",
      "William Furey https://www.mbsb.pitt.edu/index.php/site-map/articles/81-faculty/155-william-furey 8\n",
      "Ivet Bahar https://www.mbsb.pitt.edu/index.php/site-map/articles/81-faculty/142-ivet-bahar 6\n",
      "Angela Gronenborn https://www.mbsb.pitt.edu/index.php/site-map/articles/81-faculty/156-angela-gronenborn 6\n",
      "Frederick Lanni https://www.mbsb.pitt.edu/index.php/site-map/articles/81-faculty/170-frederick-lanni 6\n"
     ]
    }
   ],
   "source": [
    "print_sorted_faculty(pitt_faculty_dict)"
   ]
  },
  {
   "cell_type": "markdown",
   "id": "188408ed-b75d-4105-b2e1-55996b62af9c",
   "metadata": {},
   "source": [
    "# UCSF (just bioengineering and pharmacology faculty)"
   ]
  },
  {
   "cell_type": "markdown",
   "id": "f119ac65-ffa4-4b9e-baad-cd1a70f208a5",
   "metadata": {},
   "source": [
    "### Bioengineering Faculty"
   ]
  },
  {
   "cell_type": "code",
   "execution_count": 14,
   "id": "f61e13f8-afaf-443e-a52c-8d226e421421",
   "metadata": {},
   "outputs": [],
   "source": [
    "url = \"https://bts.ucsf.edu/people/faculty\"\n",
    "response = requests.get(url)\n",
    "soup = BeautifulSoup(response.text, \"html.parser\")"
   ]
  },
  {
   "cell_type": "code",
   "execution_count": 15,
   "id": "195dc5cb-449f-4d34-b45f-a0b9bd574c4b",
   "metadata": {},
   "outputs": [],
   "source": [
    "ucsf_faculty_dict = {}\n",
    "faculty_table = soup.findAll(\"div\", {\"class\":\"person_name\"})\n",
    "for idx, i in enumerate(faculty_table):\n",
    "    if idx == 0:\n",
    "        continue\n",
    "    name = i.findAll(\"a\")\n",
    "    link = name[0]['href']\n",
    "    name = name[0].text\n",
    "    resp = requests.get(link)\n",
    "    fac_soup = BeautifulSoup(resp.text, \"html.parser\")\n",
    "    data = fac_soup.findAll(\"div\", {\"class\":\"moscone-column-content-region-inner moscone-content-inner panel-panel-inner\"})\n",
    "    text = \"\"\n",
    "    for i in data:\n",
    "        text += i.text\n",
    "    \n",
    "    ucsf_faculty_dict[(name, link)] = text"
   ]
  },
  {
   "cell_type": "code",
   "execution_count": 16,
   "id": "4662c733-1943-49f1-a906-a92528b7fa74",
   "metadata": {},
   "outputs": [
    {
     "name": "stdout",
     "output_type": "stream",
     "text": [
      "Found and scored 21 faculty\n",
      "Tanja Kortemme, PhD https://pharmacy.ucsf.edu/tanja-kortemme 188\n",
      "Kathy Giacomini, PhD https://pharmacy.ucsf.edu/kathy-giacomini 98\n",
      "Leslie Benet, PhD https://pharmacy.ucsf.edu/leslie-benet 65\n",
      "Deanna Kroetz, PhD https://pharmacy.ucsf.edu/deanna-kroetz 55\n",
      "Francis Szoka, PhD https://pharmacy.ucsf.edu/francis-szoka 54\n",
      "Rada Savic, PhD https://pharmacy.ucsf.edu/rada-savic 49\n",
      "Sourav Bandyopadhyay, PhD https://pharmacy.ucsf.edu/sourav-bandyopadhyay 46\n",
      "C. Anthony Hunt, PhD https://pharmacy.ucsf.edu/c-anthony-hunt 43\n",
      "Andrej Sali, PhD https://pharmacy.ucsf.edu/andrej-sali 43\n",
      "Tejal Desai, PhD https://pharmacy.ucsf.edu/tejal-desai 42\n",
      "Ryan Hernandez, PhD https://pharmacy.ucsf.edu/ryan-hernandez 30\n",
      "Shuvo Roy, PhD https://pharmacy.ucsf.edu/shuvo-roy 26\n",
      "James Fraser, PhD https://pharmacy.ucsf.edu/james-fraser 24\n",
      "Seth Shipman, PhD https://pharmacy.ucsf.edu/seth-shipman 23\n",
      "Nancy Sambol, PharmD https://pharmacy.ucsf.edu/nancy-sambol 22\n",
      "Esteban G. Burchard, MD, MPH https://pharmacy.ucsf.edu/esteban-burchard 10\n",
      "Sophie Dumont, PhD https://pharmacy.ucsf.edu/sophie-dumont 10\n",
      "Xin Chen, PhD https://pharmacy.ucsf.edu/xin-chen 7\n",
      "Su Guo, PhD https://pharmacy.ucsf.edu/su-guo 7\n",
      "Nadav Ahituv, PhD https://pharmacy.ucsf.edu/nadav-ahituv 1\n"
     ]
    }
   ],
   "source": [
    "print_sorted_faculty(ucsf_faculty_dict)"
   ]
  },
  {
   "cell_type": "markdown",
   "id": "d52a877b-e507-4409-b8e8-0d1815c75ca5",
   "metadata": {},
   "source": [
    "### Pharmaceutical Chemistry"
   ]
  },
  {
   "cell_type": "code",
   "execution_count": 17,
   "id": "71e709f4-096c-484a-ac61-22c5eaf8f064",
   "metadata": {},
   "outputs": [],
   "source": [
    "url = \"https://pharmchem.ucsf.edu/people/faculty\"\n",
    "response = requests.get(url)\n",
    "soup = BeautifulSoup(response.text, \"html.parser\")\n",
    "ucsf_pharm_faculty_dict = {}\n",
    "faculty_table = soup.findAll(\"div\", {\"class\":\"person_name\"})\n",
    "for idx, i in enumerate(faculty_table):\n",
    "    if idx == 0:\n",
    "        continue\n",
    "    name = i.findAll(\"a\")\n",
    "    link = name[0]['href']\n",
    "    name = name[0].text\n",
    "    resp = requests.get(link)\n",
    "    fac_soup = BeautifulSoup(resp.text, \"html.parser\")\n",
    "    data = fac_soup.findAll(\"div\", {\"class\":\"moscone-column-content-region-inner moscone-content-inner panel-panel-inner\"})\n",
    "    text = \"\"\n",
    "    for i in data:\n",
    "        text += i.text\n",
    "    \n",
    "    ucsf_pharm_faculty_dict[(name, link)] = text"
   ]
  },
  {
   "cell_type": "code",
   "execution_count": 18,
   "id": "d3ba703c-d5af-4cb9-a891-ef6f48e3c4cc",
   "metadata": {},
   "outputs": [
    {
     "name": "stdout",
     "output_type": "stream",
     "text": [
      "Found and scored 33 faculty\n",
      "Michael Keiser, PhD https://pharmacy.ucsf.edu/michael-keiser 82\n",
      "Thomas James, PhD https://pharmacy.ucsf.edu/thomas-james 70\n",
      "Brian Shoichet, PhD https://pharmacy.ucsf.edu/brian-shoichet 70\n",
      "Lei Wang, PhD https://pharmacy.ucsf.edu/lei-wang 62\n",
      "Tom Ferrin, PhD https://pharmacy.ucsf.edu/tom-ferrin 61\n",
      "Matt Jacobson, PhD https://pharmacy.ucsf.edu/matt-jacobson 61\n",
      "William DeGrado, PhD https://pharmacy.ucsf.edu/william-degrado 55\n",
      "Xiaokun Shu, PhD https://pharmacy.ucsf.edu/xiaokun-shu 53\n",
      "Michelle Arkin, PhD https://pharmacy.ucsf.edu/michelle-arkin 47\n",
      "Jim Wells, PhD https://pharmacy.ucsf.edu/jim-wells 44\n",
      "Paul Ortiz de Montellano, PhD https://pharmacy.ucsf.edu/paul-ortiz-de-montellano 43\n",
      "Charles S. Craik, PhD https://pharmacy.ucsf.edu/charles-s-craik 40\n",
      "Lani Wu, PhD https://pharmacy.ucsf.edu/lani-wu 39\n",
      "Jason Gestwicki, PhD https://pharmacy.ucsf.edu/jason-gestwicki 34\n",
      "Aashish Manglik, MD, PhD https://pharmacy.ucsf.edu/aashish-manglik 33\n",
      "Adam Renslo, PhD https://pharmacy.ucsf.edu/adam-renslo 26\n",
      "Al Burlingame, PhD https://pharmacy.ucsf.edu/al-burlingame 24\n",
      "Bo Huang, PhD https://pharmacy.ucsf.edu/bo-huang 24\n",
      "Michael Grabe, PhD https://pharmacy.ucsf.edu/michael-grabe 20\n",
      "John Gross, PhD https://pharmacy.ucsf.edu/john-gross 18\n"
     ]
    }
   ],
   "source": [
    "print_sorted_faculty(ucsf_pharm_faculty_dict)"
   ]
  },
  {
   "cell_type": "markdown",
   "id": "d564455e-2f9b-410c-afab-a40289949a0c",
   "metadata": {},
   "source": [
    "# UPenn Faculty Analysis\n",
    "### All of the faculty have different website formats so this just scrapes everything. Much less useful rankings..."
   ]
  },
  {
   "cell_type": "code",
   "execution_count": 19,
   "id": "428b47e4-f677-436b-aa25-f7547a0ad77d",
   "metadata": {},
   "outputs": [],
   "source": [
    "url = \"https://www.med.upenn.edu/bmbgrad/bmb_faculty.html\"\n",
    "response = requests.get(url)\n",
    "soup = BeautifulSoup(response.text, \"html.parser\")"
   ]
  },
  {
   "cell_type": "code",
   "execution_count": 20,
   "id": "9dfa7878-1846-4820-8c45-32fbfd6f0956",
   "metadata": {},
   "outputs": [],
   "source": [
    "all_content = soup.findAll(\"div\", {\"class\":\"row main\"})\n",
    "found = False\n",
    "list_ = all_content[0].findAll(\"strong\")[7]\n",
    "links = list_.find_all_next(\"a\")\n",
    "penn_faculty_dict = {}\n",
    "for i in links:\n",
    "    try:\n",
    "        link = i['href']\n",
    "        name = i.text\n",
    "        if name == \".\":\n",
    "            continue \n",
    "            \n",
    "        resp = requests.get(link)\n",
    "        fac_soup = BeautifulSoup(resp.text, \"html.parser\")\n",
    "        text = \"\"\n",
    "        for i in fac_soup:\n",
    "            text += i.text\n",
    "        penn_faculty_dict[(name, link)] = text\n",
    "        if \"Zhaolan\" in name:\n",
    "            break\n",
    "    except KeyError:\n",
    "        pass"
   ]
  },
  {
   "cell_type": "code",
   "execution_count": 21,
   "id": "23f7244a-1c9e-4f10-9197-6d04f31ed33e",
   "metadata": {
    "scrolled": true,
    "tags": []
   },
   "outputs": [
    {
     "name": "stdout",
     "output_type": "stream",
     "text": [
      "Found and scored 104 faculty\n",
      "\n",
      "Luca Busino, Ph.D https://www.med.upenn.edu/cbio/faculty/#personnel-description5 245\n",
      "Liling Wan, Ph.D. https://www.med.upenn.edu/cbio/faculty/ 245\n",
      "\n",
      "Daniel Kulp, Ph.D., https://wistar.org/our-scientists/daniel-kulp 118\n",
      "\n",
      "Nikolaos Sgourakis, Ph.D  https://www.research.chop.edu/mechanistic-molecular-immunology-lab 104\n",
      "\n",
      "Cesar de la Fuente, Ph.D https://www.seas.upenn.edu/directory/profile.php?ID=299 75\n",
      "\n",
      "Scott L. Diamond, Ph.D. http://www.seas.upenn.edu/directory/profile.php?ID=24 75\n",
      "\n",
      "Amish Patel, Ph.D. https://www.seas.upenn.edu/directory/profile.php?ID=182 75\n",
      "\n",
      "Ravi Radhakrishnan, Ph.D. http://www.seas.upenn.edu/directory/profile.php?ID=76 75\n",
      "Kai Wang, Ph.D. http://pathology.med.upenn.edu/department/people/1160/kai-wang 75\n",
      "\n",
      "Arjun Raj, Ph.D. http://www.seas.upenn.edu/be/dir/details/ArjunRajdetails.html 55\n",
      "\n",
      "Sydney Shaffer, MD, Ph.D. http://pathology.med.upenn.edu/department/people 55\n",
      "\n",
      "James Shorter, Ph.D. http://www.med.upenn.edu/apps/faculty/index.php/g20x000321/p8151447 51\n",
      "\n",
      "Lewis A. Chodosh, M.D., Ph.D. http://www.med.upenn.edu/apps/faculty/index.php/g275/p20564 46\n",
      "\n",
      "Ronen Marmorstein, Ph.D. http://www.med.upenn.edu/apps/faculty/index.php/g20000220/p20660 35\n",
      "\n",
      "David Cormode, Ph.D, https://www.med.upenn.edu/apps/faculty/index.php/g275/p8524204 34\n",
      "\n",
      "Bin Tian, Ph.D.  https://wistar.org/our-scientists/bin-tian 34\n",
      "\n",
      "Kim A. Sharp, Ph.D. http://www.med.upenn.edu/apps/faculty/index.php/g20x000321/p17328 32\n",
      "\n",
      "Maureen E. Murphy, Ph.D. https://www.wistar.org/our-science/scientists/maureen-murphy-phd 31\n",
      "\n",
      "Theresa Busch, Ph.D. http://www.med.upenn.edu/apps/faculty/index.php/g20x000321/p14028 28\n",
      "\n",
      "Roland L. Dunbrack, Jr. Ph.D. http://www.med.upenn.edu/apps/faculty/index.php/g20x000321/p12980 26\n"
     ]
    }
   ],
   "source": [
    "print_sorted_faculty(penn_faculty_dict)"
   ]
  },
  {
   "cell_type": "markdown",
   "id": "e97c750c-c19c-4822-93f9-534455ca24e9",
   "metadata": {},
   "source": [
    "# Harvard Faculty Analysis (Biophysics)"
   ]
  },
  {
   "cell_type": "code",
   "execution_count": 22,
   "id": "9f824032-0993-4ea4-8c63-8dbff542e043",
   "metadata": {
    "tags": []
   },
   "outputs": [],
   "source": [
    "url =  f\"https://biophysics.fas.harvard.edu/people/people-terms/faculty\"\n",
    "harvard_faculty_dict = {}\n",
    "for i in range(0, 6):\n",
    "    response = requests.get(url)\n",
    "    soup = BeautifulSoup(response.text, \"html.parser\")\n",
    "    link_list = soup.findAll(\"div\", {\"class\":\"view-content\"})[0].findAll(\"a\")\n",
    "    for link in link_list:\n",
    "        if \"Read more\" in link.text:\n",
    "            name = link.text.split(\"about\")[-1]\n",
    "            link = link['href']\n",
    "            \n",
    "            resp = requests.get(link)\n",
    "            fac_soup = BeautifulSoup(resp.text, \"html.parser\")\n",
    "            text = \"\"\n",
    "            for word in fac_soup:\n",
    "                text += word.text\n",
    "            harvard_faculty_dict[(name, link)] = text\n",
    "    url = f\"https://biophysics.fas.harvard.edu/people/people-terms/faculty?page={i+1}\""
   ]
  },
  {
   "cell_type": "code",
   "execution_count": 23,
   "id": "e2d548da-53fc-4d7b-a06a-a25b07bc28f9",
   "metadata": {
    "scrolled": true,
    "tags": []
   },
   "outputs": [
    {
     "name": "stdout",
     "output_type": "stream",
     "text": [
      "Found and scored 85 faculty\n",
      " Peng Yin https://biophysics.fas.harvard.edu/people/peng-yin 116\n",
      " Jan Drugowitsch https://biophysics.fas.harvard.edu/people/jan-drugowitsch 115\n",
      " Eugene I. Shakhnovich https://biophysics.fas.harvard.edu/people/eugene-i-shakhnovich 80\n",
      " Adam E. Cohen https://biophysics.fas.harvard.edu/people/adam-cohen 50\n",
      " Conor L. Evans https://biophysics.fas.harvard.edu/people/conor-l-evans 44\n",
      " Andrew C. Kruse https://biophysics.fas.harvard.edu/people/andrew-c-kruse 44\n",
      " Chris Sander https://biophysics.fas.harvard.edu/people/chris-sander 41\n",
      " Shamil R. Sunyaev https://biophysics.fas.harvard.edu/people/shamil-r-sunyaev 41\n",
      " Wei-Chung Allen Lee https://biophysics.fas.harvard.edu/people/wei-chung-allen-lee 40\n",
      " Gary Ruvkun https://biophysics.fas.harvard.edu/people/gary-ruvkun 39\n",
      " Maofu Liao https://biophysics.fas.harvard.edu/people/maofu-liao 38\n",
      " Pamela  A.  Silver https://biophysics.fas.harvard.edu/people/pamela-silver 38\n",
      " James J. Chou https://biophysics.fas.harvard.edu/people/james-j-chou 36\n",
      " Min Dong, Ph.D. https://biophysics.fas.harvard.edu/people/min-dong-phd 35\n",
      " Stephen C. Harrison https://biophysics.fas.harvard.edu/people/stephen-c-harrison 35\n",
      " Gabriel Kreiman https://biophysics.fas.harvard.edu/people/gabriel-kreiman 33\n",
      " Galit  Lahav, Ph.D. https://biophysics.fas.harvard.edu/people/galit-lahav 33\n",
      " William M. Shih https://biophysics.fas.harvard.edu/people/william-m-shih 33\n",
      " Debora S. Marks https://biophysics.fas.harvard.edu/people/debora-s-marks 31\n",
      " Leonid A. Mirny, Ph.D. https://biophysics.fas.harvard.edu/people/leonid-mirny 31\n"
     ]
    }
   ],
   "source": [
    "print_sorted_faculty(harvard_faculty_dict)"
   ]
  },
  {
   "cell_type": "markdown",
   "id": "f82a179b-3ce0-4272-8286-d20ab8c42db7",
   "metadata": {},
   "source": [
    "# Columbia Faculty Analysis (Doesn't have anything)\n",
    "### Molecular Pharmacology and Therapeutics"
   ]
  },
  {
   "cell_type": "code",
   "execution_count": 24,
   "id": "b01e062b-dca5-401f-8bbc-0b8462919d27",
   "metadata": {},
   "outputs": [],
   "source": [
    "url = \"https://www.gsas.cuimc.columbia.edu/faculty-6\"\n",
    "response = requests.get(url)\n",
    "soup = BeautifulSoup(response.text, \"html.parser\")\n",
    "fac_list = soup.findAll(\"div\", {\"class\", \"field field-name-body field-type-text-with-summary field-label-hidden\"})[0]\n",
    "columbia_faculty_dict = {}\n",
    "for i in fac_list.findAll(\"a\"):\n",
    "    fac_url = \"https://www.gsas.cuimc.columbia.edu\"\n",
    "    if \"mailto\" in i['href']:\n",
    "        continue\n",
    "    if \"https://\" in i['href']:\n",
    "        fac_url = i['href']\n",
    "    else:\n",
    "        fac_url = fac_url + i['href']\n",
    "        \n",
    "    resp = requests.get(fac_url)\n",
    "    fac_soup = BeautifulSoup(resp.text, \"html.parser\")\n",
    "    text = \"\"\n",
    "    for word in fac_soup:\n",
    "        text += word.text\n",
    "    columbia_faculty_dict[(i.text, fac_url)] = text"
   ]
  },
  {
   "cell_type": "code",
   "execution_count": 25,
   "id": "bfe482e2-fc0e-4649-828b-0a31782ccfdb",
   "metadata": {},
   "outputs": [
    {
     "name": "stdout",
     "output_type": "stream",
     "text": [
      "Found and scored 38 faculty\n",
      "Robert Kass, PhD https://www.gsas.cuimc.columbia.edu/profile/robert-s-kass-phd 70\n",
      "Kenneth Olive, PhD https://www.gsas.cuimc.columbia.edu/profile/kenneth-p-olive-phd 67\n",
      "Christian Schindler, MD, PhD https://www.gsas.cuimc.columbia.edu/profile/christian-w-schindler-md 38\n",
      "Henry Colecraft, PhD https://www.gsas.cuimc.columbia.edu/profile/henry-colecraft-phd 36\n",
      "Joseph Graziano, PhD https://www.gsas.cuimc.columbia.edu/profile/joseph-h-graziano-phd 26\n",
      "Andrea Califano, PhD https://www.gsas.cuimc.columbia.edu/profile/andrea-califano-dr 25\n",
      "Wayne Hendrickson, PhD https://www.gsas.cuimc.columbia.edu/profile/wayne-hendrickson-phd 25\n",
      "Jonathan Javitch, MD, PhD https://www.gsas.cuimc.columbia.edu/profile/jonathan-javitch-md 19\n",
      "David Sulzer, PhD https://www.gsas.cuimc.columbia.edu/profile/david-sulzer-phd 19\n",
      "Virginia Cornish, PhD https://www.gsas.cuimc.columbia.edu/profile/virginia-w-cornish-phd 17\n",
      "Dritan Agalliu, PhD https://www.gsas.cuimc.columbia.edu/profile/dritan-agalliu-phd 14\n",
      "Penelope Boyden, PhD https://www.gsas.cuimc.columbia.edu/profile/penelope-boyden-phd 11\n",
      "Gordana Vunjak-Novakovic, PhD https://www.gsas.cuimc.columbia.edu/profile/gordana-vunjak-novakovic-phd 11\n",
      "Ronald Liem, PhD https://www.gsas.cuimc.columbia.edu/profile/ronald-k-liem-phd 8\n",
      "Li Qiang, PhD https://www.pathology.columbia.edu/profile/li-qiang-phd 8\n",
      "Susan Steinberg, MD https://www.gsas.cuimc.columbia.edu/profile/susan-f-steinberg-md 8\n",
      "Richard Baer, PhD https://www.gsas.cuimc.columbia.edu/profile/richard-j-baer-phd 7\n",
      "Wendy Chung, MD, PhD https://www.gsas.cuimc.columbia.edu/profile/wendy-k-chung-md 7\n",
      "Tae-Wan Kim, PhD https://www.gsas.cuimc.columbia.edu/profile/tae-wan-kim-phd 7\n",
      "Joachim Scholz, MD https://www.gsas.cuimc.columbia.edu/profile/joachim-scholz-md 7\n"
     ]
    }
   ],
   "source": [
    "print_sorted_faculty(columbia_faculty_dict)"
   ]
  },
  {
   "cell_type": "markdown",
   "id": "56b7815d-ebd4-4504-a5b7-8fb05e186689",
   "metadata": {},
   "source": [
    "### Physiology and Cellular Biophysics"
   ]
  },
  {
   "cell_type": "code",
   "execution_count": 26,
   "id": "823fabd6-00c8-450a-b106-1150c216bf5d",
   "metadata": {},
   "outputs": [],
   "source": [
    "url = \"https://www.gsas.cuimc.columbia.edu/faculty-7\"\n",
    "response = requests.get(url)\n",
    "soup = BeautifulSoup(response.text, \"html.parser\")\n",
    "fac_list = soup.findAll(\"div\", {\"class\", \"field field-name-body field-type-text-with-summary field-label-hidden\"})[0]\n",
    "biophysics_columbia_faculty_dict = {}\n",
    "for i in fac_list.findAll(\"a\"):\n",
    "    fac_url = \"https://www.gsas.cuimc.columbia.edu\"\n",
    "    if \"mailto\" in i['href']:\n",
    "        continue\n",
    "    if \"https://\" in i['href']:\n",
    "        fac_url = i['href']\n",
    "    else:\n",
    "        fac_url = fac_url + i['href']\n",
    "        \n",
    "    try:\n",
    "        resp = requests.get(fac_url)\n",
    "        fac_soup = BeautifulSoup(resp.text, \"html.parser\")\n",
    "        text = \"\"\n",
    "        for word in fac_soup:\n",
    "            text += word.text\n",
    "        biophysics_columbia_faculty_dict[(i.text, fac_url)] = text\n",
    "    except:\n",
    "        pass"
   ]
  },
  {
   "cell_type": "code",
   "execution_count": 27,
   "id": "87f3e788-6b08-414d-8037-896e2d810703",
   "metadata": {},
   "outputs": [
    {
     "name": "stdout",
     "output_type": "stream",
     "text": [
      "Found and scored 55 faculty\n",
      "Nicholas Tatonetti, PhD https://www.gsas.cuimc.columbia.edu/profile/nicholas-p-tatonetti-phd 141\n",
      "Robert Kass, PhD https://www.gsas.cuimc.columbia.edu/profile/robert-s-kass-phd 70\n",
      "Scott Banta, PhD https://cheme.columbia.edu/faculty/scott-banta 68\n",
      "Larry Abbott, PhD https://www.gsas.cuimc.columbia.edu/profile/larry-abbott-phd 45\n",
      "Anne Moscona, MD https://microbiology.columbia.edu/faculty-anne-moscona 40\n",
      "Henry Colecraft, PhD https://www.gsas.cuimc.columbia.edu/profile/henry-colecraft-phd 36\n",
      "Ning Qian, PhD https://www.gsas.cuimc.columbia.edu/profile/ning-qian-phd 36\n",
      "Allie Obermeyer, PhD https://www.engineering.columbia.edu/faculty/allie-obermeyer 31\n",
      "John Hunt, PhD https://biology.columbia.edu/people/hunt 30\n",
      "Wayne Hendrickson, PhD https://www.gsas.cuimc.columbia.edu/profile/wayne-hendrickson-phd 25\n",
      "Jonathan Javitch, MD, PhD https://www.gsas.cuimc.columbia.edu/profile/jonathan-javitch-md 19\n",
      "Matthias Quick, PhD https://www.columbiapsychiatry.org/profile/matthias-quick-phd 18\n",
      "anu Ben-Johny, PhD https://www.ps.columbia.edu/profile/manu-b-johny-phd 12\n",
      "Lawrence Shapiro, PhD https://www.gsas.cuimc.columbia.edu/profile/lawrence-s-shapiro-phd 12\n",
      "ingting Yang, PhD https://www.columbiaeye.org/profile/tyang?profile=researcher 12\n",
      "Richard Vallee, PhD https://www.gsas.cuimc.columbia.edu/profile/richard-vallee-phd 11\n",
      "Gordana Vunjak-Novakovic, PhD https://www.gsas.cuimc.columbia.edu/profile/gordana-vunjak-novakovic-phd 11\n",
      "M https://www.gsas.cuimc.columbia.edu/profile/attila-losonczy-md 10\n",
      "X. Shawn Liu https://www.physiology.columbia.edu/Liu.html 10\n",
      "Attila Losonczy, MD, PhD https://www.gsas.cuimc.columbia.edu/profile/attila-losonczy-md 10\n"
     ]
    }
   ],
   "source": [
    "print_sorted_faculty(biophysics_columbia_faculty_dict)"
   ]
  },
  {
   "cell_type": "markdown",
   "id": "8e9f183a-1fc6-4a64-8408-4382d6ef1a49",
   "metadata": {},
   "source": [
    "# Northwestern Faculty Analysis (Not working as well because they inject the faculty content with javascript so its not in the initial HTML)\n",
    "### Biophysics Department"
   ]
  },
  {
   "cell_type": "code",
   "execution_count": 28,
   "id": "c3ca453b-1e69-4fe0-a3d4-c48e93bfec17",
   "metadata": {},
   "outputs": [],
   "source": [
    "url = \"https://biophysics.northwestern.edu/people/preceptors/index.html\"\n",
    "response = requests.get(url)\n",
    "soup = BeautifulSoup(response.text, \"html.parser\")\n",
    "faculty_list = soup.findAll(\"div\", {\"class\":\"people-wrap\"})\n",
    "northwestern_fac_dict = {}\n",
    "for i in faculty_list:\n",
    "    name = i.findAll(\"a\")[1]\n",
    "    link = name['href']\n",
    "    name = name.text\n",
    "\n",
    "    resp = requests.get(link)\n",
    "    fac_soup = BeautifulSoup(resp.text, \"html.parser\")\n",
    "    \n",
    "    text = \"\"\n",
    "    for word in fac_soup:\n",
    "        text += word.text\n",
    "        \n",
    "    northwestern_fac_dict[(name, link)] = text\n",
    "    "
   ]
  },
  {
   "cell_type": "code",
   "execution_count": 29,
   "id": "59c0a8a8-19a3-4abf-b25a-5fceba4c1da2",
   "metadata": {},
   "outputs": [
    {
     "name": "stdout",
     "output_type": "stream",
     "text": [
      "Found and scored 29 faculty\n",
      "Joshua Leonard http://www.mccormick.northwestern.edu/research-faculty/directory/profiles/leonard-josh.html 42\n",
      "Danielle Tullman-Ercek http://www.mccormick.northwestern.edu/research-faculty/directory/profiles/tullman-ercek-danielle.html 22\n",
      "Neha Kamat http://www.mccormick.northwestern.edu/research-faculty/directory/profiles/kamat-neha.html 12\n",
      "Brian Hoffman https://www.chemistry.northwestern.edu/people/core-faculty/profiles/brian-hoffman.html 11\n",
      "Adilson Motter http://www.physics.northwestern.edu/people/faculty/core-faculty/adilson-motter.html 10\n",
      "Julius Lucks http://www.mccormick.northwestern.edu/research-faculty/directory/profiles/lucks-julius.html 8\n",
      "Heather Pinkett http://www.molbiosci.northwestern.edu/people/core-faculty/heather-pinkett.html 8\n",
      "Curt Horvath http://www.molbiosci.northwestern.edu/people/core-faculty/curt-horvath.html 7\n",
      "Michael Jewett http://www.mccormick.northwestern.edu/research-faculty/directory/profiles/jewett-mike.html 7\n",
      "Richard Morimoto http://www.molbiosci.northwestern.edu/people/core-faculty/richard-morimoto.html 6\n",
      "Neil Kelleher https://www.chemistry.northwestern.edu/people/core-faculty/profiles/neil-kelleher.html 5\n",
      "Keith Tyo http://www.mccormick.northwestern.edu/research-faculty/directory/profiles/tyo-keith.html 5\n",
      "John Marko http://www.molbiosci.northwestern.edu/people/core-faculty/john-marko.html 4\n",
      "Ishwar Radhakrishnan http://www.molbiosci.northwestern.edu/people/core-faculty/ishwar-radhakrishnan.html 4\n",
      "Reza Vafabakhsh http://www.molbiosci.northwestern.edu/people/core-faculty/reza-vafbakhsh.html 4\n",
      "Robert Lamb http://www.molbiosci.northwestern.edu/people/core-faculty/robert-lamb.html 3\n",
      "Jason Brickner http://www.molbiosci.northwestern.edu/people/core-faculty/jason-brickner.html 2\n",
      "Lin Chen http://www.chemistry.northwestern.edu/people/core-faculty/profiles/lin-chen.html 2\n",
      "Amy Rosenzweig http://www.molbiosci.northwestern.edu/people/core-faculty/amy-rosenzweig.html 2\n",
      "Yuan He http://www.molbiosci.northwestern.edu/people/core-faculty/Yuan-He.html 1\n",
      "Laura Lackner  http://www.molbiosci.northwestern.edu/people/core-faculty/laura-lackner.html 1\n",
      "Alfonso MondragÃ³n http://www.molbiosci.northwestern.edu/people/core-faculty/alfonso-mondragon.html 1\n",
      "Murali Prakriya http://www.pharm.northwestern.edu/faculty/profile.html?xid=16139 1\n",
      "Karla Satchell https://www.feinberg.northwestern.edu/faculty-profiles/az/profile.html?xid=10285 1\n",
      "Paul DeCaen http://www.pharm.northwestern.edu/faculty/profile.html?xid=34221 0\n",
      "Daniel Foltz https://www.feinberg.northwestern.edu/sites/biochem/faculty/profile.html?xid=33062 0\n",
      "Alfred George http://www.feinberg.northwestern.edu/faculty-profiles/az/profile.html?xid=29140 0\n",
      "Gabriel Rocklin https://www.feinberg.northwestern.edu/faculty-profiles/az/profile.html?xid=43966 0\n",
      "Sadie Wignall http://www.molbiosci.northwestern.edu/people/core-faculty/sadie-wignall.html 0\n"
     ]
    }
   ],
   "source": [
    "print_sorted_faculty(northwestern_fac_dict, False)"
   ]
  },
  {
   "cell_type": "code",
   "execution_count": null,
   "id": "5a4adb66-1cf1-4878-befe-2c605e4644bc",
   "metadata": {},
   "outputs": [],
   "source": []
  }
 ],
 "metadata": {
  "kernelspec": {
   "display_name": "Python 3",
   "language": "python",
   "name": "python3"
  },
  "language_info": {
   "codemirror_mode": {
    "name": "ipython",
    "version": 3
   },
   "file_extension": ".py",
   "mimetype": "text/x-python",
   "name": "python",
   "nbconvert_exporter": "python",
   "pygments_lexer": "ipython3",
   "version": "3.7.6"
  }
 },
 "nbformat": 4,
 "nbformat_minor": 5
}
